{
 "cells": [
  {
   "cell_type": "markdown",
   "id": "44a042b1",
   "metadata": {},
   "source": [
    "<center><img width=\"25%\" src=\"https://www.camaramirimdoce.sc.gov.br/media/noticia/resumo-da-sessao-10-06-2019-111.png?w=848&h=450&t=P&c=f0f0f0&q=80&v=2\"></center>\n",
    "\n",
    "---\n",
    "\n",
    "<br>\n",
    "\n",
    "# **Power BI**\n",
    "\n",
    "<br>"
   ]
  },
  {
   "cell_type": "markdown",
   "id": "86e21f13",
   "metadata": {},
   "source": [
    "# **Sumário:**\n",
    "1. [Introdução](#Introdução)\n",
    "2. [Importação de arquivos](#Importação-de-arquivos)\n",
    "3. [Renomear arquivos](#Renomear-arquivos)\n",
    "4. [Outros temas importantes](#Outros-temas-importantes)"
   ]
  },
  {
   "cell_type": "markdown",
   "id": "7b228842",
   "metadata": {},
   "source": [
    "## **Introdução**\n",
    "[&#x1F53C;](#Sumário:) Clique para voltar para o sumário"
   ]
  },
  {
   "cell_type": "markdown",
   "id": "9a7abc13",
   "metadata": {},
   "source": [
    "#### O Microsoft Power BI é um serviço de análise de negócios e análise de dados da desenvolvedora Microsoft lançado a 24 de julho de 2015. \n",
    "#### Empresas que geram um volume muito grande de dados necessitam de um analista de dados para extrair o máximo de informações, de uma base de dados, da forma mais objetiva possível e assim, facilitar a tomada de decisão. O Power BI auxilia de forma gráfica a extração e entendimento desses dados. \n",
    "* Por que? Por que estamos fazendo estes dashboards?\n",
    "* Como? Como fazer? Quais fontes de dados buscar?\n",
    "* O que? O que fazer? O que iremos mostrar?"
   ]
  },
  {
   "cell_type": "markdown",
   "id": "349c53f8",
   "metadata": {},
   "source": [
    "## **Importação de arquivos**\n",
    "[&#x1F53C;](#Sumário:) Clique para voltar para o sumário"
   ]
  },
  {
   "cell_type": "markdown",
   "id": "c65efabc",
   "metadata": {},
   "source": [
    "#### No Power BI (P.B) clique:\n",
    "* PÁGINA INICIAL\n",
    "* OBTER DADOS \n",
    "* Escolha uma Fontes de dados para conectar (Selecione quais tabelas que importar)\n",
    "* TRANSFORMAR DADOS"
   ]
  },
  {
   "cell_type": "markdown",
   "id": "c5bfdea0",
   "metadata": {},
   "source": [
    "## **Renomear arquivos**\n",
    "[&#x1F53C;](#Sumário:) Clique para voltar para o sumário"
   ]
  },
  {
   "cell_type": "markdown",
   "id": "82c03db9",
   "metadata": {},
   "source": [
    "* No Power Query (P.Q) na parte direita da tela, no campo CONFIGURAÇÃO DE CONSULTA, renomeie o arquivo no campo PROPRIEDADES - NOME;\n",
    "* No Power Query (P.Q) na parte esquerda da tela, no campo CONSULTAS, clique com o botão direito do mouse na tabela. No menu, clique em RENOMEAR."
   ]
  },
  {
   "cell_type": "markdown",
   "id": "ccfdbd07",
   "metadata": {},
   "source": [
    "## **Tratamentos no Power Query**\n",
    "[&#x1F53C;](#Sumário:) Clique para voltar para o sumário\n"
   ]
  },
  {
   "cell_type": "code",
   "execution_count": null,
   "id": "98945236",
   "metadata": {},
   "outputs": [],
   "source": []
  }
 ],
 "metadata": {
  "kernelspec": {
   "display_name": "Python 3 (ipykernel)",
   "language": "python",
   "name": "python3"
  },
  "language_info": {
   "codemirror_mode": {
    "name": "ipython",
    "version": 3
   },
   "file_extension": ".py",
   "mimetype": "text/x-python",
   "name": "python",
   "nbconvert_exporter": "python",
   "pygments_lexer": "ipython3",
   "version": "3.9.16"
  }
 },
 "nbformat": 4,
 "nbformat_minor": 5
}
